{
  "nbformat": 4,
  "nbformat_minor": 0,
  "metadata": {
    "colab": {
      "provenance": []
    },
    "kernelspec": {
      "name": "python3",
      "display_name": "Python 3"
    },
    "language_info": {
      "name": "python"
    },
    "widgets": {
      "application/vnd.jupyter.widget-state+json": {
        "2220c000175e44f6a9da09b6f62d0305": {
          "model_module": "@jupyter-widgets/controls",
          "model_name": "VBoxModel",
          "model_module_version": "1.5.0",
          "state": {
            "_dom_classes": [
              "widget-interact"
            ],
            "_model_module": "@jupyter-widgets/controls",
            "_model_module_version": "1.5.0",
            "_model_name": "VBoxModel",
            "_view_count": null,
            "_view_module": "@jupyter-widgets/controls",
            "_view_module_version": "1.5.0",
            "_view_name": "VBoxView",
            "box_style": "",
            "children": [
              "IPY_MODEL_91674d828ff84a3d9ba28c5a45dde4f3",
              "IPY_MODEL_de1f0e91052d4e6c9a5b235980ed559d"
            ],
            "layout": "IPY_MODEL_3506b98031f04cdb85a09482e642cd33"
          }
        },
        "91674d828ff84a3d9ba28c5a45dde4f3": {
          "model_module": "@jupyter-widgets/controls",
          "model_name": "PlayModel",
          "model_module_version": "1.5.0",
          "state": {
            "_dom_classes": [],
            "_model_module": "@jupyter-widgets/controls",
            "_model_module_version": "1.5.0",
            "_model_name": "PlayModel",
            "_playing": false,
            "_repeat": false,
            "_view_count": null,
            "_view_module": "@jupyter-widgets/controls",
            "_view_module_version": "1.5.0",
            "_view_name": "PlayView",
            "description": "t",
            "description_tooltip": null,
            "disabled": false,
            "interval": 100,
            "layout": "IPY_MODEL_ec6ccde3fb7b404082e2e9b2b38bf233",
            "max": 100,
            "min": 0,
            "show_repeat": true,
            "step": 1,
            "style": "IPY_MODEL_1bf26b14336d406da7341d329bf534c8",
            "value": 0
          }
        },
        "de1f0e91052d4e6c9a5b235980ed559d": {
          "model_module": "@jupyter-widgets/output",
          "model_name": "OutputModel",
          "model_module_version": "1.0.0",
          "state": {
            "_dom_classes": [],
            "_model_module": "@jupyter-widgets/output",
            "_model_module_version": "1.0.0",
            "_model_name": "OutputModel",
            "_view_count": null,
            "_view_module": "@jupyter-widgets/output",
            "_view_module_version": "1.0.0",
            "_view_name": "OutputView",
            "layout": "IPY_MODEL_af218c9a0ea64cd98d458182d9fa0756",
            "msg_id": "",
            "outputs": [
              {
                "output_type": "display_data",
                "data": {
                  "text/plain": "<Figure size 640x480 with 1 Axes>",
                  "image/png": "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\n"
                },
                "metadata": {}
              }
            ]
          }
        },
        "3506b98031f04cdb85a09482e642cd33": {
          "model_module": "@jupyter-widgets/base",
          "model_name": "LayoutModel",
          "model_module_version": "1.2.0",
          "state": {
            "_model_module": "@jupyter-widgets/base",
            "_model_module_version": "1.2.0",
            "_model_name": "LayoutModel",
            "_view_count": null,
            "_view_module": "@jupyter-widgets/base",
            "_view_module_version": "1.2.0",
            "_view_name": "LayoutView",
            "align_content": null,
            "align_items": null,
            "align_self": null,
            "border": null,
            "bottom": null,
            "display": null,
            "flex": null,
            "flex_flow": null,
            "grid_area": null,
            "grid_auto_columns": null,
            "grid_auto_flow": null,
            "grid_auto_rows": null,
            "grid_column": null,
            "grid_gap": null,
            "grid_row": null,
            "grid_template_areas": null,
            "grid_template_columns": null,
            "grid_template_rows": null,
            "height": null,
            "justify_content": null,
            "justify_items": null,
            "left": null,
            "margin": null,
            "max_height": null,
            "max_width": null,
            "min_height": null,
            "min_width": null,
            "object_fit": null,
            "object_position": null,
            "order": null,
            "overflow": null,
            "overflow_x": null,
            "overflow_y": null,
            "padding": null,
            "right": null,
            "top": null,
            "visibility": null,
            "width": null
          }
        },
        "ec6ccde3fb7b404082e2e9b2b38bf233": {
          "model_module": "@jupyter-widgets/base",
          "model_name": "LayoutModel",
          "model_module_version": "1.2.0",
          "state": {
            "_model_module": "@jupyter-widgets/base",
            "_model_module_version": "1.2.0",
            "_model_name": "LayoutModel",
            "_view_count": null,
            "_view_module": "@jupyter-widgets/base",
            "_view_module_version": "1.2.0",
            "_view_name": "LayoutView",
            "align_content": null,
            "align_items": null,
            "align_self": null,
            "border": null,
            "bottom": null,
            "display": null,
            "flex": null,
            "flex_flow": null,
            "grid_area": null,
            "grid_auto_columns": null,
            "grid_auto_flow": null,
            "grid_auto_rows": null,
            "grid_column": null,
            "grid_gap": null,
            "grid_row": null,
            "grid_template_areas": null,
            "grid_template_columns": null,
            "grid_template_rows": null,
            "height": null,
            "justify_content": null,
            "justify_items": null,
            "left": null,
            "margin": null,
            "max_height": null,
            "max_width": null,
            "min_height": null,
            "min_width": null,
            "object_fit": null,
            "object_position": null,
            "order": null,
            "overflow": null,
            "overflow_x": null,
            "overflow_y": null,
            "padding": null,
            "right": null,
            "top": null,
            "visibility": null,
            "width": null
          }
        },
        "1bf26b14336d406da7341d329bf534c8": {
          "model_module": "@jupyter-widgets/controls",
          "model_name": "DescriptionStyleModel",
          "model_module_version": "1.5.0",
          "state": {
            "_model_module": "@jupyter-widgets/controls",
            "_model_module_version": "1.5.0",
            "_model_name": "DescriptionStyleModel",
            "_view_count": null,
            "_view_module": "@jupyter-widgets/base",
            "_view_module_version": "1.2.0",
            "_view_name": "StyleView",
            "description_width": ""
          }
        },
        "af218c9a0ea64cd98d458182d9fa0756": {
          "model_module": "@jupyter-widgets/base",
          "model_name": "LayoutModel",
          "model_module_version": "1.2.0",
          "state": {
            "_model_module": "@jupyter-widgets/base",
            "_model_module_version": "1.2.0",
            "_model_name": "LayoutModel",
            "_view_count": null,
            "_view_module": "@jupyter-widgets/base",
            "_view_module_version": "1.2.0",
            "_view_name": "LayoutView",
            "align_content": null,
            "align_items": null,
            "align_self": null,
            "border": null,
            "bottom": null,
            "display": null,
            "flex": null,
            "flex_flow": null,
            "grid_area": null,
            "grid_auto_columns": null,
            "grid_auto_flow": null,
            "grid_auto_rows": null,
            "grid_column": null,
            "grid_gap": null,
            "grid_row": null,
            "grid_template_areas": null,
            "grid_template_columns": null,
            "grid_template_rows": null,
            "height": null,
            "justify_content": null,
            "justify_items": null,
            "left": null,
            "margin": null,
            "max_height": null,
            "max_width": null,
            "min_height": null,
            "min_width": null,
            "object_fit": null,
            "object_position": null,
            "order": null,
            "overflow": null,
            "overflow_x": null,
            "overflow_y": null,
            "padding": null,
            "right": null,
            "top": null,
            "visibility": null,
            "width": null
          }
        },
        "51a78d814dee497dbf1d9716f2afcbb7": {
          "model_module": "@jupyter-widgets/controls",
          "model_name": "VBoxModel",
          "model_module_version": "1.5.0",
          "state": {
            "_dom_classes": [
              "widget-interact"
            ],
            "_model_module": "@jupyter-widgets/controls",
            "_model_module_version": "1.5.0",
            "_model_name": "VBoxModel",
            "_view_count": null,
            "_view_module": "@jupyter-widgets/controls",
            "_view_module_version": "1.5.0",
            "_view_name": "VBoxView",
            "box_style": "",
            "children": [
              "IPY_MODEL_cfb22f2881d645599d31e3a781057862",
              "IPY_MODEL_54a204cabab24d828472709df832ff60"
            ],
            "layout": "IPY_MODEL_cda968930a984dfa90b4bffc22a5b078"
          }
        },
        "cfb22f2881d645599d31e3a781057862": {
          "model_module": "@jupyter-widgets/controls",
          "model_name": "PlayModel",
          "model_module_version": "1.5.0",
          "state": {
            "_dom_classes": [],
            "_model_module": "@jupyter-widgets/controls",
            "_model_module_version": "1.5.0",
            "_model_name": "PlayModel",
            "_playing": false,
            "_repeat": false,
            "_view_count": null,
            "_view_module": "@jupyter-widgets/controls",
            "_view_module_version": "1.5.0",
            "_view_name": "PlayView",
            "description": "t",
            "description_tooltip": null,
            "disabled": false,
            "interval": 100,
            "layout": "IPY_MODEL_6b42989f86fb4469a2b3e76c074a027a",
            "max": 14880,
            "min": 0,
            "show_repeat": true,
            "step": 1,
            "style": "IPY_MODEL_a48a961f456045edb3d5a27e15bd498c",
            "value": 0
          }
        },
        "54a204cabab24d828472709df832ff60": {
          "model_module": "@jupyter-widgets/output",
          "model_name": "OutputModel",
          "model_module_version": "1.0.0",
          "state": {
            "_dom_classes": [],
            "_model_module": "@jupyter-widgets/output",
            "_model_module_version": "1.0.0",
            "_model_name": "OutputModel",
            "_view_count": null,
            "_view_module": "@jupyter-widgets/output",
            "_view_module_version": "1.0.0",
            "_view_name": "OutputView",
            "layout": "IPY_MODEL_669c17a920144073bdd1fadb298ca78d",
            "msg_id": "",
            "outputs": [
              {
                "output_type": "display_data",
                "data": {
                  "text/plain": "<Figure size 640x480 with 1 Axes>",
                  "image/png": "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\n"
                },
                "metadata": {}
              }
            ]
          }
        },
        "cda968930a984dfa90b4bffc22a5b078": {
          "model_module": "@jupyter-widgets/base",
          "model_name": "LayoutModel",
          "model_module_version": "1.2.0",
          "state": {
            "_model_module": "@jupyter-widgets/base",
            "_model_module_version": "1.2.0",
            "_model_name": "LayoutModel",
            "_view_count": null,
            "_view_module": "@jupyter-widgets/base",
            "_view_module_version": "1.2.0",
            "_view_name": "LayoutView",
            "align_content": null,
            "align_items": null,
            "align_self": null,
            "border": null,
            "bottom": null,
            "display": null,
            "flex": null,
            "flex_flow": null,
            "grid_area": null,
            "grid_auto_columns": null,
            "grid_auto_flow": null,
            "grid_auto_rows": null,
            "grid_column": null,
            "grid_gap": null,
            "grid_row": null,
            "grid_template_areas": null,
            "grid_template_columns": null,
            "grid_template_rows": null,
            "height": null,
            "justify_content": null,
            "justify_items": null,
            "left": null,
            "margin": null,
            "max_height": null,
            "max_width": null,
            "min_height": null,
            "min_width": null,
            "object_fit": null,
            "object_position": null,
            "order": null,
            "overflow": null,
            "overflow_x": null,
            "overflow_y": null,
            "padding": null,
            "right": null,
            "top": null,
            "visibility": null,
            "width": null
          }
        },
        "6b42989f86fb4469a2b3e76c074a027a": {
          "model_module": "@jupyter-widgets/base",
          "model_name": "LayoutModel",
          "model_module_version": "1.2.0",
          "state": {
            "_model_module": "@jupyter-widgets/base",
            "_model_module_version": "1.2.0",
            "_model_name": "LayoutModel",
            "_view_count": null,
            "_view_module": "@jupyter-widgets/base",
            "_view_module_version": "1.2.0",
            "_view_name": "LayoutView",
            "align_content": null,
            "align_items": null,
            "align_self": null,
            "border": null,
            "bottom": null,
            "display": null,
            "flex": null,
            "flex_flow": null,
            "grid_area": null,
            "grid_auto_columns": null,
            "grid_auto_flow": null,
            "grid_auto_rows": null,
            "grid_column": null,
            "grid_gap": null,
            "grid_row": null,
            "grid_template_areas": null,
            "grid_template_columns": null,
            "grid_template_rows": null,
            "height": null,
            "justify_content": null,
            "justify_items": null,
            "left": null,
            "margin": null,
            "max_height": null,
            "max_width": null,
            "min_height": null,
            "min_width": null,
            "object_fit": null,
            "object_position": null,
            "order": null,
            "overflow": null,
            "overflow_x": null,
            "overflow_y": null,
            "padding": null,
            "right": null,
            "top": null,
            "visibility": null,
            "width": null
          }
        },
        "a48a961f456045edb3d5a27e15bd498c": {
          "model_module": "@jupyter-widgets/controls",
          "model_name": "DescriptionStyleModel",
          "model_module_version": "1.5.0",
          "state": {
            "_model_module": "@jupyter-widgets/controls",
            "_model_module_version": "1.5.0",
            "_model_name": "DescriptionStyleModel",
            "_view_count": null,
            "_view_module": "@jupyter-widgets/base",
            "_view_module_version": "1.2.0",
            "_view_name": "StyleView",
            "description_width": ""
          }
        },
        "669c17a920144073bdd1fadb298ca78d": {
          "model_module": "@jupyter-widgets/base",
          "model_name": "LayoutModel",
          "model_module_version": "1.2.0",
          "state": {
            "_model_module": "@jupyter-widgets/base",
            "_model_module_version": "1.2.0",
            "_model_name": "LayoutModel",
            "_view_count": null,
            "_view_module": "@jupyter-widgets/base",
            "_view_module_version": "1.2.0",
            "_view_name": "LayoutView",
            "align_content": null,
            "align_items": null,
            "align_self": null,
            "border": null,
            "bottom": null,
            "display": null,
            "flex": null,
            "flex_flow": null,
            "grid_area": null,
            "grid_auto_columns": null,
            "grid_auto_flow": null,
            "grid_auto_rows": null,
            "grid_column": null,
            "grid_gap": null,
            "grid_row": null,
            "grid_template_areas": null,
            "grid_template_columns": null,
            "grid_template_rows": null,
            "height": null,
            "justify_content": null,
            "justify_items": null,
            "left": null,
            "margin": null,
            "max_height": null,
            "max_width": null,
            "min_height": null,
            "min_width": null,
            "object_fit": null,
            "object_position": null,
            "order": null,
            "overflow": null,
            "overflow_x": null,
            "overflow_y": null,
            "padding": null,
            "right": null,
            "top": null,
            "visibility": null,
            "width": null
          }
        }
      }
    }
  },
  "cells": [
    {
      "cell_type": "markdown",
      "source": [],
      "metadata": {
        "id": "UK5lzbcLt3Qg"
      }
    },
    {
      "cell_type": "markdown",
      "source": [
        "# DS-I Africa Deep Learning Course - 1 July 2023\n",
        "## Mandla Gwetu (mvgcollab@gmail.com)"
      ],
      "metadata": {
        "id": "bSZxtgUDCJGD"
      }
    },
    {
      "cell_type": "markdown",
      "source": [
        "# Animate Sin Wave Visualisation"
      ],
      "metadata": {
        "id": "wURoqZFht5Th"
      }
    },
    {
      "cell_type": "code",
      "execution_count": 9,
      "metadata": {
        "colab": {
          "base_uri": "https://localhost:8080/",
          "height": 467,
          "referenced_widgets": [
            "2220c000175e44f6a9da09b6f62d0305",
            "91674d828ff84a3d9ba28c5a45dde4f3",
            "de1f0e91052d4e6c9a5b235980ed559d",
            "3506b98031f04cdb85a09482e642cd33",
            "ec6ccde3fb7b404082e2e9b2b38bf233",
            "1bf26b14336d406da7341d329bf534c8",
            "af218c9a0ea64cd98d458182d9fa0756"
          ]
        },
        "id": "Gi_FcMkjCH6J",
        "outputId": "d63bf3a4-075d-4600-8fed-a73c7cefe65b"
      },
      "outputs": [
        {
          "output_type": "display_data",
          "data": {
            "text/plain": [
              "interactive(children=(Play(value=0, description='t'), Output()), _dom_classes=('widget-interact',))"
            ],
            "application/vnd.jupyter.widget-view+json": {
              "version_major": 2,
              "version_minor": 0,
              "model_id": "2220c000175e44f6a9da09b6f62d0305"
            }
          },
          "metadata": {}
        }
      ],
      "source": [
        "import ipywidgets as widgets\n",
        "from ipywidgets import interact\n",
        "import numpy as np\n",
        "import matplotlib.pyplot as plt\n",
        "\n",
        "x = np.linspace(0,2*np.pi,1000)\n",
        "play = widgets.Play(min=0,max=100)\n",
        "@interact(t=play)\n",
        "def sine_wave(t=0):\n",
        "  y = np.sin(x+t*0.1)\n",
        "  plt.plot(x, y)\n",
        "  plt.xlim(0,2*np.pi)\n",
        "  plt.ylim(-1,1)\n",
        "\n",
        "  plt.show()\n"
      ]
    },
    {
      "cell_type": "markdown",
      "source": [
        "# Read EEG Data"
      ],
      "metadata": {
        "id": "xTv45OcatxuX"
      }
    },
    {
      "cell_type": "code",
      "source": [
        "eeg_file = open(\"EEG Eye State.arff\",\"r\")\n",
        "eeg_contents = eeg_file.readlines()\n",
        "print(len(eeg_contents))"
      ],
      "metadata": {
        "id": "8gOpQ5QhuQsV",
        "outputId": "586fd7c2-72c3-41b2-dc63-24f8e2f2a9c9",
        "colab": {
          "base_uri": "https://localhost:8080/"
        }
      },
      "execution_count": 1,
      "outputs": [
        {
          "output_type": "stream",
          "name": "stdout",
          "text": [
            "14999\n"
          ]
        }
      ]
    },
    {
      "cell_type": "markdown",
      "source": [
        "# Clean EEG Data"
      ],
      "metadata": {
        "id": "1Zm93wmBvKBv"
      }
    },
    {
      "cell_type": "code",
      "source": [
        "print(eeg_contents[18:20])"
      ],
      "metadata": {
        "id": "l8YrzKB4vFju",
        "outputId": "8264f61b-9a6b-4511-f545-070616f36e4b",
        "colab": {
          "base_uri": "https://localhost:8080/"
        }
      },
      "execution_count": 6,
      "outputs": [
        {
          "output_type": "stream",
          "name": "stdout",
          "text": [
            "['@DATA\\n', '4329.23,4009.23,4289.23,4148.21,4350.26,4586.15,4096.92,4641.03,4222.05,4238.46,4211.28,4280.51,4635.9,4393.85,0\\n']\n"
          ]
        }
      ]
    },
    {
      "cell_type": "code",
      "source": [
        "eeg_numbers = eeg_contents[19:]\n",
        "print(eeg_numbers[0])"
      ],
      "metadata": {
        "id": "gGWcuYLWwHEe",
        "outputId": "abfce253-514e-4eed-9cc6-e2a182ea5be9",
        "colab": {
          "base_uri": "https://localhost:8080/"
        }
      },
      "execution_count": 7,
      "outputs": [
        {
          "output_type": "stream",
          "name": "stdout",
          "text": [
            "4329.23,4009.23,4289.23,4148.21,4350.26,4586.15,4096.92,4641.03,4222.05,4238.46,4211.28,4280.51,4635.9,4393.85,0\n",
            "\n"
          ]
        }
      ]
    },
    {
      "cell_type": "code",
      "source": [
        "eeg_list = []\n",
        "for line in eeg_numbers:\n",
        "  tokens = line.split(',')\n",
        "  nums = [float(token) for token in tokens]\n",
        "  eeg_list.append(nums)\n",
        "\n",
        "eeg_array = np.array(eeg_list)\n",
        "print(eeg_array.shape)"
      ],
      "metadata": {
        "id": "zpzf6gx5wjKi",
        "outputId": "03a7e05d-b214-4e3c-deb1-bdd4252d4008",
        "colab": {
          "base_uri": "https://localhost:8080/"
        }
      },
      "execution_count": 18,
      "outputs": [
        {
          "output_type": "stream",
          "name": "stdout",
          "text": [
            "(14980, 15)\n"
          ]
        }
      ]
    },
    {
      "cell_type": "code",
      "source": [
        "eeg_array = eeg_array[:,:-1]\n",
        "print(eeg_array.shape)"
      ],
      "metadata": {
        "id": "mt8DCC03ynmw",
        "outputId": "13b2f339-0c40-4bc2-e8a8-aac77bfa8035",
        "colab": {
          "base_uri": "https://localhost:8080/"
        }
      },
      "execution_count": 19,
      "outputs": [
        {
          "output_type": "stream",
          "name": "stdout",
          "text": [
            "(14980, 14)\n"
          ]
        }
      ]
    },
    {
      "cell_type": "markdown",
      "source": [
        "# EEG Electrode Signal Visualisation"
      ],
      "metadata": {
        "id": "EbarWyOBzWCh"
      }
    },
    {
      "cell_type": "code",
      "source": [
        "duration = len(eeg_array)\n",
        "play = widgets.Play(min=0,max=duration-100)\n",
        "x = np.arange(100)\n",
        "@interact(t=play)\n",
        "def eeg_function(t=0):\n",
        "  y = eeg_array[x+t,0]\n",
        "  plt.plot(x, y)\n",
        "  plt.xlim(0,100)\n",
        "  plt.ylim(4200,4600)\n",
        "\n",
        "  plt.show()"
      ],
      "metadata": {
        "id": "CTTyh9OnzCas",
        "outputId": "cb54f1d7-44b1-46a4-92a7-69e722467a9f",
        "colab": {
          "base_uri": "https://localhost:8080/",
          "height": 467,
          "referenced_widgets": [
            "51a78d814dee497dbf1d9716f2afcbb7",
            "cfb22f2881d645599d31e3a781057862",
            "54a204cabab24d828472709df832ff60",
            "cda968930a984dfa90b4bffc22a5b078",
            "6b42989f86fb4469a2b3e76c074a027a",
            "a48a961f456045edb3d5a27e15bd498c",
            "669c17a920144073bdd1fadb298ca78d"
          ]
        }
      },
      "execution_count": 36,
      "outputs": [
        {
          "output_type": "display_data",
          "data": {
            "text/plain": [
              "interactive(children=(Play(value=0, description='t', max=14880), Output()), _dom_classes=('widget-interact',))"
            ],
            "application/vnd.jupyter.widget-view+json": {
              "version_major": 2,
              "version_minor": 0,
              "model_id": "51a78d814dee497dbf1d9716f2afcbb7"
            }
          },
          "metadata": {}
        }
      ]
    }
  ]
}