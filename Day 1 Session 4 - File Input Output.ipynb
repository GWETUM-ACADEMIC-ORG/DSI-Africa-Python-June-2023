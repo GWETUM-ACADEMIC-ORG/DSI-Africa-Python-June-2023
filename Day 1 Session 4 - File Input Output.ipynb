{
 "cells": [
  {
   "cell_type": "markdown",
   "id": "75bef10f",
   "metadata": {},
   "source": [
    "# DS-I Africa Python Boot Camp - 21 June 2023\n",
    "## Mandla Gwetu (mvgcollab@gmail.com)"
   ]
  },
  {
   "cell_type": "markdown",
   "id": "5258a175",
   "metadata": {},
   "source": [
    "# File Input\n",
    "* Most algorithms are designed to process data from a dataset stored in a file\n",
    "* There are several python libraries that allow data to be read from different file formats\n",
    "* Such libraries will ultimately be built on top of basic file operations\n",
    "* Files that are opened for reading can be simultaneously processed by different programs without compromising data integrity\n",
    "* To allow file access to be managed effectively, all files that are opened should be closed after use to release the acquired access rights\n",
    "* The *with* statement provides shorthand for closing files, this is automatically done at the end of the block associated with the statement"
   ]
  },
  {
   "cell_type": "markdown",
   "id": "9ae5006f",
   "metadata": {},
   "source": [
    "# Read - Count - Sum Exercise\n",
    "* Extend the code below into a series of code blocks that will fulfill the following objectives:\n",
    " * open the given file, nums.txt for reading\n",
    " * count and sum all the numbers in the file\n",
    " * display the computed values in as output\n",
    "* When opening the file, you will notice that the numbers are arranged in lines, but the lines are not necessarily of the same size. \n",
    "* Modify the code so that the file processing operations are grouped into a function that can be tested.\n",
    "* Create 3 copies of nums.txt and modify them so that they contain a different number of entries on each line and a differing number of extra lines.\n",
    "* Write a testcase to verify that your functions work as intended."
   ]
  },
  {
   "cell_type": "code",
   "execution_count": 5,
   "id": "0779c484",
   "metadata": {},
   "outputs": [
    {
     "name": "stdout",
     "output_type": "stream",
     "text": [
      "count 9\n"
     ]
    }
   ],
   "source": [
    "def sumLine(line):\n",
    "    pass\n",
    "\n",
    "file = open('nums.txt','r')\n",
    "count = 0\n",
    "sum = 0\n",
    "for line in file.readlines():\n",
    "    tokens = line.split()\n",
    "    count += len(tokens)\n",
    "    \n",
    "file.close()\n",
    "print('count',count)"
   ]
  },
  {
   "cell_type": "markdown",
   "id": "ddf05b18",
   "metadata": {},
   "source": [
    "# File Output\n",
    "* In order to write to a file, it must be open in write or append mode\n",
    "* File integrity is secured through file locks that prevent simultaneous writes to the file\n",
    "* Text files can be formatted using the string format function which works on placeholders with the following attributes:\n",
    " * the name or index that relates to a value\n",
    " * an alignment flag\n",
    " * the size of the column\n",
    " * the number of decimal points to represent\n",
    " * the data type"
   ]
  },
  {
   "cell_type": "markdown",
   "id": "76125f7f",
   "metadata": {},
   "source": [
    "# BMI Input and Output File Exercise\n",
    "* BMI is calculated as $weight(kg)/height(m)^2$\n",
    "* The file bmi1.txt contains several entries, each with 2 attributes: weight and height\n",
    "* Extend the following code into a series of blocks that fulfill the following objectives:\n",
    " * Create a new file for writing: bmi2.txt\n",
    " * The file should have 3 columns with headings: Weight, Height and BMI - each 10 characters wide and left justified\n",
    " * Calculate the BMI for each entry in bmi1.txt and use these values to write corresponding entries in bmi2.txt \n",
    " * The second and third column should be written to 2 decimal places\n",
    " * End bmi2.txt with a bottom entry containing the average values of each column"
   ]
  },
  {
   "cell_type": "code",
   "execution_count": 9,
   "id": "12a30dc3",
   "metadata": {},
   "outputs": [],
   "source": [
    "def sumList(num_list):\n",
    "    total = 0\n",
    "    for num in num_list:\n",
    "        total += num\n",
    "    return total\n",
    "\n",
    "def aveList(num_list):\n",
    "    pass\n",
    "\n",
    "def calcBMI(w,h):\n",
    "    return w/(h*h)\n",
    "\n",
    "file_in = open('bmi1.txt','r')\n",
    "w_list = []\n",
    "h_list = []\n",
    "bmi_list = []\n",
    "with open('bmi2.txt','w') as file_out:\n",
    "    for line in file_in:\n",
    "        tokens = line.split()\n",
    "        w = int(tokens[0])\n",
    "        w_list.append(w)\n",
    "        h = float(tokens[1])\n",
    "        h_list.append(h)\n",
    "        bmi = calcBMI(w,h)\n",
    "        bmi_list.append(bmi)\n",
    "        file_out.write(\"{0:<10d}{1:<10.2f}{2:<10.2f}\\n\".format(w,h,bmi))       \n"
   ]
  },
  {
   "cell_type": "markdown",
   "id": "8513fe2b",
   "metadata": {},
   "source": [
    "# Arrhythmia Dataset Preprocessing Exercise\n",
    "* Write code blocks to create a preprocessed version of arrhythmia.data (call it arrhythmia2.data), such that all the missing values (?) are replaced with the average value of the respective column.\n",
    "* Display the number of instances and attributes in the dataset as well as the number of missing values replaced."
   ]
  },
  {
   "cell_type": "code",
   "execution_count": null,
   "id": "638c9c1e",
   "metadata": {},
   "outputs": [],
   "source": []
  }
 ],
 "metadata": {
  "kernelspec": {
   "display_name": "Python 3",
   "language": "python",
   "name": "python3"
  },
  "language_info": {
   "codemirror_mode": {
    "name": "ipython",
    "version": 3
   },
   "file_extension": ".py",
   "mimetype": "text/x-python",
   "name": "python",
   "nbconvert_exporter": "python",
   "pygments_lexer": "ipython3",
   "version": "3.8.8"
  }
 },
 "nbformat": 4,
 "nbformat_minor": 5
}
