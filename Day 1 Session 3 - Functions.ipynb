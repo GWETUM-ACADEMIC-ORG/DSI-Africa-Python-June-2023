{
 "cells": [
  {
   "cell_type": "markdown",
   "id": "30d91b39",
   "metadata": {},
   "source": [
    "# DS-I Africa Python Boot Camp - 21 June 2023\n",
    "## Mandla Gwetu (mvgcollab@gmail.com)"
   ]
  },
  {
   "cell_type": "markdown",
   "id": "fe8f688d",
   "metadata": {},
   "source": [
    "# Benefits of Functions\n",
    "* Code reuse\n",
    "* Easier code understanding\n",
    "* Easier conde maintenance"
   ]
  },
  {
   "cell_type": "markdown",
   "id": "a8a0db94",
   "metadata": {},
   "source": [
    "# Function Organisation\n",
    "* Functions that are specifically meant for reuse are written and saved in a python file called a module\n",
    "* To call/invoke a function in a module, from a separate script or notebook, the module/function first needs to be imported\n",
    "* Modules can be further grouped into a package - a folder of modules and a file called $__init__.py$ for storing package level variables\n",
    "* Python distributions come with many modules and packages - their respective documentation explains the individual function interfaces"
   ]
  },
  {
   "cell_type": "markdown",
   "id": "d8bbbc8b",
   "metadata": {},
   "source": [
    "# Unit Testing\n",
    "* Python supports the unit testing framework for automating code testing\n",
    "* The basic unit of testing is a test case - which is modeled as a class that focuses on a particular functionality\n",
    "* Multiple unit tests can be combined into a test suite\n",
    "* Each test is built around one or more assertions that compare actual vs ideal function output\n",
    "* Although the most common assertion is assertEqual(a,b), other useful assertions include assertTrue(x) and assertIn(a,b)\n",
    "* Each test case is allowed to setUp() and tearDown() before and after each test is called. E.g. for opening and closing a file."
   ]
  },
  {
   "cell_type": "code",
   "execution_count": 6,
   "id": "923ea1f8",
   "metadata": {},
   "outputs": [],
   "source": [
    "import unittest\n",
    "\n",
    "def add(a,b):\n",
    "    return a+b\n",
    "\n",
    "class TestAdding(unittest.TestCase):  #inherit unittest framework structure from the unittest.TestCase base class\n",
    "    def test_add(self):\n",
    "        actual = add(2,3)\n",
    "        expected = 5\n",
    "        self.assertEqual(actual, expected)"
   ]
  },
  {
   "cell_type": "code",
   "execution_count": 8,
   "id": "fbd49c8c",
   "metadata": {},
   "outputs": [
    {
     "name": "stderr",
     "output_type": "stream",
     "text": [
      "test_add (__main__.TestAdding) ... ok\n",
      "\n",
      "----------------------------------------------------------------------\n",
      "Ran 1 test in 0.001s\n",
      "\n",
      "OK\n"
     ]
    },
    {
     "data": {
      "text/plain": [
       "<unittest.main.TestProgram at 0x212c547ecd0>"
      ]
     },
     "execution_count": 8,
     "metadata": {},
     "output_type": "execute_result"
    }
   ],
   "source": [
    "unittest.main(argv=['test_add'],verbosity=2,exit=False) #[''] runs all tests and exit=False indicates interactive mode"
   ]
  },
  {
   "cell_type": "markdown",
   "id": "8946c00d",
   "metadata": {},
   "source": [
    "# Package Design and Testing Exercise\n",
    "**Design** a python package containing useful functions related to your profession or workplace. List the different modules and functions contained in it. Each function should be describe by name, return type and parameter lists."
   ]
  },
  {
   "cell_type": "code",
   "execution_count": null,
   "id": "21306325",
   "metadata": {},
   "outputs": [],
   "source": []
  }
 ],
 "metadata": {
  "kernelspec": {
   "display_name": "Python 3",
   "language": "python",
   "name": "python3"
  },
  "language_info": {
   "codemirror_mode": {
    "name": "ipython",
    "version": 3
   },
   "file_extension": ".py",
   "mimetype": "text/x-python",
   "name": "python",
   "nbconvert_exporter": "python",
   "pygments_lexer": "ipython3",
   "version": "3.8.8"
  }
 },
 "nbformat": 4,
 "nbformat_minor": 5
}
